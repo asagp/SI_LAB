{
 "cells": [
  {
   "cell_type": "code",
   "execution_count": null,
   "metadata": {},
   "outputs": [],
   "source": [
    "# Zadanie 1\n",
    "# Wybierz inną cechę i spróbuj przewidzieć ceny mieszkań. Użyj walidacji krzyżowej.\n",
    "# Zadanie bonus: zaimportuj dane nt cukrzycy przy pomocy funkcji load_diabetes\n",
    "# Następnie przeanalizuj dane i zaproponuj regresor liniowy. Sprawdź jakość modelu za pomocą walidacji krzyżowej.\n"
   ]
  },
  {
   "cell_type": "code",
   "execution_count": 1,
   "metadata": {},
   "outputs": [
    {
     "name": "stdout",
     "output_type": "stream",
     "text": [
      "Klucze dostępne w zbiorze danych:  dict_keys(['data', 'target', 'feature_names', 'DESCR', 'filename'])\n",
      ".. _boston_dataset:\n",
      "\n",
      "Boston house prices dataset\n",
      "---------------------------\n",
      "\n",
      "**Data Set Characteristics:**  \n",
      "\n",
      "    :Number of Instances: 506 \n",
      "\n",
      "    :Number of Attributes: 13 numeric/categorical predictive. Median Value (attribute 14) is usually the target.\n",
      "\n",
      "    :Attribute Information (in order):\n",
      "        - CRIM     per capita crime rate by town\n",
      "        - ZN       proportion of residential land zoned for lots over 25,000 sq.ft.\n",
      "        - INDUS    proportion of non-retail business acres per town\n",
      "        - CHAS     Charles River dummy variable (= 1 if tract bounds river; 0 otherwise)\n",
      "        - NOX      nitric oxides concentration (parts per 10 million)\n",
      "        - RM       average number of rooms per dwelling\n",
      "        - AGE      proportion of owner-occupied units built prior to 1940\n",
      "        - DIS      weighted distances to five Boston employment centres\n",
      "        - RAD      index of accessibility to radial highways\n",
      "        - TAX      full-value property-tax rate per $10,000\n",
      "        - PTRATIO  pupil-teacher ratio by town\n",
      "        - B        1000(Bk - 0.63)^2 where Bk is the proportion of blacks by town\n",
      "        - LSTAT    % lower status of the population\n",
      "        - MEDV     Median value of owner-occupied homes in $1000's\n",
      "\n",
      "    :Missing Attribute Values: None\n",
      "\n",
      "    :Creator: Harrison, D. and Rubinfeld, D.L.\n",
      "\n",
      "This is a copy of UCI ML housing dataset.\n",
      "https://archive.ics.uci.edu/ml/machine-learning-databases/housing/\n",
      "\n",
      "\n",
      "This dataset was taken from the StatLib library which is maintained at Carnegie Mellon University.\n",
      "\n",
      "The Boston house-price data of Harrison, D. and Rubinfeld, D.L. 'Hedonic\n",
      "prices and the demand for clean air', J. Environ. Economics & Management,\n",
      "vol.5, 81-102, 1978.   Used in Belsley, Kuh & Welsch, 'Regression diagnostics\n",
      "...', Wiley, 1980.   N.B. Various transformations are used in the table on\n",
      "pages 244-261 of the latter.\n",
      "\n",
      "The Boston house-price data has been used in many machine learning papers that address regression\n",
      "problems.   \n",
      "     \n",
      ".. topic:: References\n",
      "\n",
      "   - Belsley, Kuh & Welsch, 'Regression diagnostics: Identifying Influential Data and Sources of Collinearity', Wiley, 1980. 244-261.\n",
      "   - Quinlan,R. (1993). Combining Instance-Based and Model-Based Learning. In Proceedings on the Tenth International Conference of Machine Learning, 236-243, University of Massachusetts, Amherst. Morgan Kaufmann.\n",
      "\n"
     ]
    },
    {
     "data": {
      "image/png": "[encoded data removed]",
      "text/plain": [
       "<Figure size 432x288 with 1 Axes>"
      ]
     },
     "metadata": {
      "needs_background": "light"
     },
     "output_type": "display_data"
    },
    {
     "name": "stdout",
     "output_type": "stream",
     "text": [
      "Metryka domyślna:  0.14665780179763344\n",
      "Metryka r2:  0.14665780179763344\n",
      "Współczynniki regresji:\n",
      " [-38.33138084]\n"
     ]
    },
    {
     "data": {
      "image/png": "[encoded data removed]",
      "text/plain": [
       "<Figure size 432x288 with 1 Axes>"
      ]
     },
     "metadata": {
      "needs_background": "light"
     },
     "output_type": "display_data"
    },
    {
     "name": "stdout",
     "output_type": "stream",
     "text": [
      "R^2 (coefficient of determination) regression score: [-0.30913397  0.09366647 -0.63345725  0.05210964 -0.74232224]\n",
      "Explained variance regression score: [ 0.18491784  0.26630758 -0.20562301  0.08171991  0.22516046]\n",
      "Mean squared error regression loss: [ -45.21119708  -82.50966219 -130.81902305  -83.14121895  -46.32541572]\n",
      "Mean absolute error regression loss: [-5.92125935 -6.04781492 -8.01542985 -6.77463159 -5.58839054]\n",
      "MAX Error: [-16.22059084 -30.08107898 -31.60758344 -31.0981337  -15.12078899]\n"
     ]
    }
   ],
   "source": [
    "from sklearn.datasets import load_boston\n",
    "import matplotlib.pyplot as plt\n",
    "%matplotlib inline\n",
    "import pandas as pd\n",
    "import numpy as np\n",
    "import seaborn as sns\n",
    "from sklearn.model_selection import train_test_split\n",
    "from sklearn.metrics import r2_score\n",
    "from sklearn.linear_model import LinearRegression\n",
    "from sklearn.model_selection import cross_val_score\n",
    "\n",
    "# Wczytanie zbioru nieruchomości \n",
    "boston_nieruchomosci = load_boston()\n",
    "\n",
    "print('Klucze dostępne w zbiorze danych: ', boston_nieruchomosci.keys())\n",
    "print(boston_nieruchomosci.DESCR)\n",
    "\n",
    "boston_df = pd.DataFrame(boston_nieruchomosci['data'], columns=boston_nieruchomosci['feature_names'])\n",
    "\n",
    "boston_df['target'] = np.array(list(boston_nieruchomosci['target']))\n",
    "\n",
    "# Ilość tlenków azotu\n",
    "azote = boston_nieruchomosci['data'][:, np.newaxis, 4]\n",
    "plt.scatter(azote, boston_nieruchomosci['target'])\n",
    "plt.show()\n",
    "\n",
    "# Stworzenie regresora liniowego\n",
    "linreg = LinearRegression()\n",
    "\n",
    "X_train, X_test, y_train, y_test = train_test_split(azote, boston_nieruchomosci['target'], test_size = 0.5)\n",
    "\n",
    "linreg.fit(X_train, y_train)\n",
    "\n",
    "# Przewidywanie ceny\n",
    "y_pred = linreg.predict(X_test)\n",
    "\n",
    "# Domyślna metryka\n",
    "print('Metryka domyślna: ', linreg.score(X_test, y_test))\n",
    "\n",
    "# Wskaźnik (metryka) r^2\n",
    "print('Metryka r2: ', r2_score(y_test, y_pred))\n",
    "\n",
    "# Współczynniki regresji\n",
    "print('Współczynniki regresji:\\n', linreg.coef_)\n",
    "\n",
    "# Wykres regresji\n",
    "plt.scatter(X_test, y_test, color='black')\n",
    "plt.plot(X_test, y_pred, color='blue', linewidth=2)\n",
    "plt.show()\n",
    "\n",
    "# Walidacja krzyżowa\n",
    "cv_score_r2 = cross_val_score(linreg, azote, boston_nieruchomosci.target, cv=5, scoring='r2')\n",
    "print(\"R^2 (coefficient of determination) regression score:\",cv_score_r2)\n",
    "cv_score_ev = cross_val_score(linreg, azote, boston_nieruchomosci.target, cv=5, scoring='explained_variance')\n",
    "print(\"Explained variance regression score:\",cv_score_ev)\n",
    "cv_score_mse = cross_val_score(linreg, azote, boston_nieruchomosci.target, cv=5, scoring='neg_mean_squared_error')\n",
    "print(\"Mean squared error regression loss:\",cv_score_mse)\n",
    "cv_score_mae = cross_val_score(linreg, azote, boston_nieruchomosci.target, cv=5, scoring='neg_mean_absolute_error')\n",
    "print(\"Mean absolute error regression loss:\",cv_score_mae)\n",
    "cv_score_max_error = cross_val_score(linreg, azote, boston_nieruchomosci.target, cv=5, scoring='max_error')\n",
    "print(\"MAX Error:\", cv_score_max_error)"
   ]
  }
 ],
 "metadata": {
  "kernelspec": {
   "display_name": "Python 3",
   "language": "python",
   "name": "python3"
  },
  "language_info": {
   "codemirror_mode": {
    "name": "ipython",
    "version": 3
   },
   "file_extension": ".py",
   "mimetype": "text/x-python",
   "name": "python",
   "nbconvert_exporter": "python",
   "pygments_lexer": "ipython3",
   "version": "3.7.4"
  }
 },
 "nbformat": 4,
 "nbformat_minor": 2
}
